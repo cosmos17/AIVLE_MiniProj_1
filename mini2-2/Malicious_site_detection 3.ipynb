{
 "cells": [
  {
   "cell_type": "markdown",
   "metadata": {},
   "source": [
    "# 악성사이트 탐지 머신러닝 모델 개발 (3)\n",
    "\n",
    "### 목표\n",
    " * 웹 페이지에서 Feature 크롤링 연습\n",
    " * AI모델을 통해 악성사이트 여부를 판별\n",
    "\n",
    "### 데이터\n",
    "* train_0307.csv\n",
    "\n",
    "---"
   ]
  },
  {
   "cell_type": "code",
   "execution_count": 61,
   "metadata": {},
   "outputs": [],
   "source": [
    "import pandas as pd\n",
    "import numpy as np\n",
    "\n",
    "from sklearn.linear_model import LogisticRegression\n",
    "from sklearn.ensemble import RandomForestClassifier\n",
    "import tensorflow as tf\n",
    "from tensorflow import keras\n",
    "\n",
    "from sklearn.model_selection import GridSearchCV\n",
    "from sklearn.metrics import confusion_matrix, classification_report, f1_score, accuracy_score\n",
    "\n",
    "import matplotlib.pyplot as plt"
   ]
  },
  {
   "cell_type": "code",
   "execution_count": 2,
   "metadata": {},
   "outputs": [],
   "source": [
    "x_train = pd.read_csv('data/x_train.csv')\n",
    "y_train = pd.read_csv('data/y_train.csv')\n",
    "x_test = pd.read_csv('data/x_test.csv')\n",
    "y_test = pd.read_csv('data/y_test.csv')"
   ]
  },
  {
   "cell_type": "markdown",
   "metadata": {},
   "source": [
    "## 7> 데이터 모델링"
   ]
  },
  {
   "cell_type": "code",
   "execution_count": 3,
   "metadata": {},
   "outputs": [
    {
     "data": {
      "text/html": [
       "<div>\n",
       "<style scoped>\n",
       "    .dataframe tbody tr th:only-of-type {\n",
       "        vertical-align: middle;\n",
       "    }\n",
       "\n",
       "    .dataframe tbody tr th {\n",
       "        vertical-align: top;\n",
       "    }\n",
       "\n",
       "    .dataframe thead th {\n",
       "        text-align: right;\n",
       "    }\n",
       "</style>\n",
       "<table border=\"1\" class=\"dataframe\">\n",
       "  <thead>\n",
       "    <tr style=\"text-align: right;\">\n",
       "      <th></th>\n",
       "      <th>url_len</th>\n",
       "      <th>url_num_hyphens_dom</th>\n",
       "      <th>url_path_len</th>\n",
       "      <th>url_domain_len</th>\n",
       "      <th>url_hostname_len</th>\n",
       "      <th>url_num_dots</th>\n",
       "      <th>url_num_underscores</th>\n",
       "      <th>url_query_len</th>\n",
       "      <th>url_num_query_para</th>\n",
       "      <th>url_ip_present</th>\n",
       "      <th>...</th>\n",
       "      <th>url_port</th>\n",
       "      <th>html_num_tags('iframe')</th>\n",
       "      <th>html_num_tags('script')</th>\n",
       "      <th>html_num_tags('embed')</th>\n",
       "      <th>html_num_tags('object')</th>\n",
       "      <th>html_num_tags('div')</th>\n",
       "      <th>html_num_tags('head')</th>\n",
       "      <th>html_num_tags('body')</th>\n",
       "      <th>html_num_tags('form')</th>\n",
       "      <th>html_num_tags('a')</th>\n",
       "    </tr>\n",
       "  </thead>\n",
       "  <tbody>\n",
       "    <tr>\n",
       "      <th>0</th>\n",
       "      <td>21.0</td>\n",
       "      <td>0.0</td>\n",
       "      <td>0.0</td>\n",
       "      <td>21.0</td>\n",
       "      <td>21.0</td>\n",
       "      <td>2.0</td>\n",
       "      <td>0.0</td>\n",
       "      <td>0.0</td>\n",
       "      <td>0.0</td>\n",
       "      <td>0</td>\n",
       "      <td>...</td>\n",
       "      <td>0</td>\n",
       "      <td>1.0</td>\n",
       "      <td>12.0</td>\n",
       "      <td>0.0</td>\n",
       "      <td>0.0</td>\n",
       "      <td>214.0</td>\n",
       "      <td>2.0</td>\n",
       "      <td>1.0</td>\n",
       "      <td>1.0</td>\n",
       "      <td>207.0</td>\n",
       "    </tr>\n",
       "    <tr>\n",
       "      <th>1</th>\n",
       "      <td>120.0</td>\n",
       "      <td>0.0</td>\n",
       "      <td>85.0</td>\n",
       "      <td>35.0</td>\n",
       "      <td>35.0</td>\n",
       "      <td>6.0</td>\n",
       "      <td>0.0</td>\n",
       "      <td>0.0</td>\n",
       "      <td>0.0</td>\n",
       "      <td>0</td>\n",
       "      <td>...</td>\n",
       "      <td>0</td>\n",
       "      <td>0.0</td>\n",
       "      <td>6.0</td>\n",
       "      <td>0.0</td>\n",
       "      <td>0.0</td>\n",
       "      <td>11.0</td>\n",
       "      <td>1.0</td>\n",
       "      <td>1.0</td>\n",
       "      <td>2.0</td>\n",
       "      <td>35.0</td>\n",
       "    </tr>\n",
       "  </tbody>\n",
       "</table>\n",
       "<p>2 rows × 22 columns</p>\n",
       "</div>"
      ],
      "text/plain": [
       "   url_len  url_num_hyphens_dom  url_path_len  url_domain_len  \\\n",
       "0     21.0                  0.0           0.0            21.0   \n",
       "1    120.0                  0.0          85.0            35.0   \n",
       "\n",
       "   url_hostname_len  url_num_dots  url_num_underscores  url_query_len  \\\n",
       "0              21.0           2.0                  0.0            0.0   \n",
       "1              35.0           6.0                  0.0            0.0   \n",
       "\n",
       "   url_num_query_para  url_ip_present  ...  url_port  html_num_tags('iframe')  \\\n",
       "0                 0.0               0  ...         0                      1.0   \n",
       "1                 0.0               0  ...         0                      0.0   \n",
       "\n",
       "   html_num_tags('script')  html_num_tags('embed')  html_num_tags('object')  \\\n",
       "0                     12.0                     0.0                      0.0   \n",
       "1                      6.0                     0.0                      0.0   \n",
       "\n",
       "   html_num_tags('div')  html_num_tags('head')  html_num_tags('body')  \\\n",
       "0                 214.0                    2.0                    1.0   \n",
       "1                  11.0                    1.0                    1.0   \n",
       "\n",
       "   html_num_tags('form')  html_num_tags('a')  \n",
       "0                    1.0               207.0  \n",
       "1                    2.0                35.0  \n",
       "\n",
       "[2 rows x 22 columns]"
      ]
     },
     "metadata": {},
     "output_type": "display_data"
    },
    {
     "data": {
      "text/html": [
       "<div>\n",
       "<style scoped>\n",
       "    .dataframe tbody tr th:only-of-type {\n",
       "        vertical-align: middle;\n",
       "    }\n",
       "\n",
       "    .dataframe tbody tr th {\n",
       "        vertical-align: top;\n",
       "    }\n",
       "\n",
       "    .dataframe thead th {\n",
       "        text-align: right;\n",
       "    }\n",
       "</style>\n",
       "<table border=\"1\" class=\"dataframe\">\n",
       "  <thead>\n",
       "    <tr style=\"text-align: right;\">\n",
       "      <th></th>\n",
       "      <th>label</th>\n",
       "    </tr>\n",
       "  </thead>\n",
       "  <tbody>\n",
       "    <tr>\n",
       "      <th>0</th>\n",
       "      <td>0</td>\n",
       "    </tr>\n",
       "    <tr>\n",
       "      <th>1</th>\n",
       "      <td>1</td>\n",
       "    </tr>\n",
       "  </tbody>\n",
       "</table>\n",
       "</div>"
      ],
      "text/plain": [
       "   label\n",
       "0      0\n",
       "1      1"
      ]
     },
     "metadata": {},
     "output_type": "display_data"
    }
   ],
   "source": [
    "display(x_test.head(2))\n",
    "display(y_test.head(2))"
   ]
  },
  {
   "cell_type": "code",
   "execution_count": 3,
   "metadata": {},
   "outputs": [
    {
     "data": {
      "text/plain": [
       "((2261, 20), (2261, 1), (970, 20), (970, 1))"
      ]
     },
     "execution_count": 3,
     "metadata": {},
     "output_type": "execute_result"
    }
   ],
   "source": [
    "x_train.shape, y_train.shape, x_test.shape, y_test.shape"
   ]
  },
  {
   "cell_type": "code",
   "execution_count": 4,
   "metadata": {},
   "outputs": [],
   "source": [
    "y_train = y_train.squeeze()\n",
    "y_test = y_test.squeeze()"
   ]
  },
  {
   "cell_type": "markdown",
   "metadata": {},
   "source": [
    "####  7-0> Confusion Matrix 함수 정의\n",
    "\n",
    "* Confusion Matrix : 학습을 통한 예측 성능을 측정하기 위해 예측 value와 실제 value를 비교하는 표\n",
    "* confusion matrix (https://scikit-learn.org/stable/modules/generated/sklearn.metrics.confusion_matrix.html)\n",
    "\n",
    "    - confusion = confusion_matrix(test_y, dt_pred)\n",
    "    - fig, ax = plt.subplots(figsize=(10,3))\n",
    "    - plot_confusion_matrix(ax, confusion, fontsize=30)"
   ]
  },
  {
   "cell_type": "code",
   "execution_count": 9,
   "metadata": {},
   "outputs": [],
   "source": [
    "def plot_confusion_matrix(ax, matrix, labels = ['malicious', 'benign'], title='Confusion matrix', fontsize=9):\n",
    "    ax.set_xticks([x for x in range(len(labels))])\n",
    "    ax.set_yticks([y for y in range(len(labels))])\n",
    "\n",
    "    # Place labels on minor ticks\n",
    "    ax.set_xticks([x + 0.5 for x in range(len(labels))], minor=True)\n",
    "    ax.set_xticklabels(labels, rotation='vertical', fontsize=fontsize, minor=True)\n",
    "    ax.set_yticks([y + 0.5 for y in range(len(labels))], minor=True)\n",
    "    ax.set_yticklabels(labels[::-1], fontsize=fontsize, minor=True)\n",
    "\n",
    "    # Hide major tick labels\n",
    "    ax.tick_params(which='major', labelbottom='off', labelleft='off')\n",
    "\n",
    "    # Finally, hide minor tick marks\n",
    "    ax.tick_params(which='minor', width=0)\n",
    "\n",
    "    # Plot heat map\n",
    "    proportions = [1. * row / sum(row) for row in matrix]\n",
    "    ax.pcolor(np.array(proportions[::-1]), cmap=plt.cm.Pastel2)\n",
    "\n",
    "    # Plot counts as text\n",
    "    for row in range(len(matrix)):\n",
    "        for col in range(len(matrix[row])):\n",
    "            confusion = matrix[::-1][row][col]\n",
    "            if confusion != 0:\n",
    "                ax.text(col + 0.5, row + 0.5, int(confusion),\n",
    "                        fontsize=fontsize,\n",
    "                        horizontalalignment='center',\n",
    "                        verticalalignment='center')\n",
    "\n",
    "    # Add finishing touches\n",
    "    ax.grid(True, linestyle=':')\n",
    "    ax.set_title(title, fontsize=fontsize)\n",
    "    ax.set_xlabel('prediction', fontsize=fontsize)\n",
    "    ax.set_ylabel('actual', fontsize=fontsize)\n",
    "\n",
    "    plt.show()"
   ]
  },
  {
   "cell_type": "markdown",
   "metadata": {},
   "source": [
    "### 7-1> LogisticRegression\n"
   ]
  },
  {
   "cell_type": "code",
   "execution_count": null,
   "metadata": {},
   "outputs": [],
   "source": [
    "from sklearn.preprocessing import StandardScaler"
   ]
  },
  {
   "cell_type": "code",
   "execution_count": 6,
   "metadata": {},
   "outputs": [],
   "source": [
    "### lbfgs 등의 LR 내 최적화 알고리즘이 지정된 반복 횟수(max_iter) 내에서 수렴하지 못하는 경고가 발생하여 임시로 정규화\n",
    "scaler = StandardScaler()\n",
    "x_train_lr = scaler.fit_transform(x_train)\n",
    "x_test_lr = scaler.transform(x_test)"
   ]
  },
  {
   "cell_type": "code",
   "execution_count": 7,
   "metadata": {},
   "outputs": [
    {
     "name": "stdout",
     "output_type": "stream",
     "text": [
      "Fitting 5 folds for each of 9 candidates, totalling 45 fits\n"
     ]
    },
    {
     "data": {
      "text/html": [
       "<style>#sk-container-id-1 {color: black;background-color: white;}#sk-container-id-1 pre{padding: 0;}#sk-container-id-1 div.sk-toggleable {background-color: white;}#sk-container-id-1 label.sk-toggleable__label {cursor: pointer;display: block;width: 100%;margin-bottom: 0;padding: 0.3em;box-sizing: border-box;text-align: center;}#sk-container-id-1 label.sk-toggleable__label-arrow:before {content: \"▸\";float: left;margin-right: 0.25em;color: #696969;}#sk-container-id-1 label.sk-toggleable__label-arrow:hover:before {color: black;}#sk-container-id-1 div.sk-estimator:hover label.sk-toggleable__label-arrow:before {color: black;}#sk-container-id-1 div.sk-toggleable__content {max-height: 0;max-width: 0;overflow: hidden;text-align: left;background-color: #f0f8ff;}#sk-container-id-1 div.sk-toggleable__content pre {margin: 0.2em;color: black;border-radius: 0.25em;background-color: #f0f8ff;}#sk-container-id-1 input.sk-toggleable__control:checked~div.sk-toggleable__content {max-height: 200px;max-width: 100%;overflow: auto;}#sk-container-id-1 input.sk-toggleable__control:checked~label.sk-toggleable__label-arrow:before {content: \"▾\";}#sk-container-id-1 div.sk-estimator input.sk-toggleable__control:checked~label.sk-toggleable__label {background-color: #d4ebff;}#sk-container-id-1 div.sk-label input.sk-toggleable__control:checked~label.sk-toggleable__label {background-color: #d4ebff;}#sk-container-id-1 input.sk-hidden--visually {border: 0;clip: rect(1px 1px 1px 1px);clip: rect(1px, 1px, 1px, 1px);height: 1px;margin: -1px;overflow: hidden;padding: 0;position: absolute;width: 1px;}#sk-container-id-1 div.sk-estimator {font-family: monospace;background-color: #f0f8ff;border: 1px dotted black;border-radius: 0.25em;box-sizing: border-box;margin-bottom: 0.5em;}#sk-container-id-1 div.sk-estimator:hover {background-color: #d4ebff;}#sk-container-id-1 div.sk-parallel-item::after {content: \"\";width: 100%;border-bottom: 1px solid gray;flex-grow: 1;}#sk-container-id-1 div.sk-label:hover label.sk-toggleable__label {background-color: #d4ebff;}#sk-container-id-1 div.sk-serial::before {content: \"\";position: absolute;border-left: 1px solid gray;box-sizing: border-box;top: 0;bottom: 0;left: 50%;z-index: 0;}#sk-container-id-1 div.sk-serial {display: flex;flex-direction: column;align-items: center;background-color: white;padding-right: 0.2em;padding-left: 0.2em;position: relative;}#sk-container-id-1 div.sk-item {position: relative;z-index: 1;}#sk-container-id-1 div.sk-parallel {display: flex;align-items: stretch;justify-content: center;background-color: white;position: relative;}#sk-container-id-1 div.sk-item::before, #sk-container-id-1 div.sk-parallel-item::before {content: \"\";position: absolute;border-left: 1px solid gray;box-sizing: border-box;top: 0;bottom: 0;left: 50%;z-index: -1;}#sk-container-id-1 div.sk-parallel-item {display: flex;flex-direction: column;z-index: 1;position: relative;background-color: white;}#sk-container-id-1 div.sk-parallel-item:first-child::after {align-self: flex-end;width: 50%;}#sk-container-id-1 div.sk-parallel-item:last-child::after {align-self: flex-start;width: 50%;}#sk-container-id-1 div.sk-parallel-item:only-child::after {width: 0;}#sk-container-id-1 div.sk-dashed-wrapped {border: 1px dashed gray;margin: 0 0.4em 0.5em 0.4em;box-sizing: border-box;padding-bottom: 0.4em;background-color: white;}#sk-container-id-1 div.sk-label label {font-family: monospace;font-weight: bold;display: inline-block;line-height: 1.2em;}#sk-container-id-1 div.sk-label-container {text-align: center;}#sk-container-id-1 div.sk-container {/* jupyter's `normalize.less` sets `[hidden] { display: none; }` but bootstrap.min.css set `[hidden] { display: none !important; }` so we also need the `!important` here to be able to override the default hidden behavior on the sphinx rendered scikit-learn.org. See: https://github.com/scikit-learn/scikit-learn/issues/21755 */display: inline-block !important;position: relative;}#sk-container-id-1 div.sk-text-repr-fallback {display: none;}</style><div id=\"sk-container-id-1\" class=\"sk-top-container\"><div class=\"sk-text-repr-fallback\"><pre>GridSearchCV(cv=5, estimator=LogisticRegression(),\n",
       "             param_grid={&#x27;C&#x27;: [0.01, 0.1, 1], &#x27;max_iter&#x27;: [100, 200, 500]},\n",
       "             scoring=&#x27;accuracy&#x27;, verbose=1)</pre><b>In a Jupyter environment, please rerun this cell to show the HTML representation or trust the notebook. <br />On GitHub, the HTML representation is unable to render, please try loading this page with nbviewer.org.</b></div><div class=\"sk-container\" hidden><div class=\"sk-item sk-dashed-wrapped\"><div class=\"sk-label-container\"><div class=\"sk-label sk-toggleable\"><input class=\"sk-toggleable__control sk-hidden--visually\" id=\"sk-estimator-id-1\" type=\"checkbox\" ><label for=\"sk-estimator-id-1\" class=\"sk-toggleable__label sk-toggleable__label-arrow\">GridSearchCV</label><div class=\"sk-toggleable__content\"><pre>GridSearchCV(cv=5, estimator=LogisticRegression(),\n",
       "             param_grid={&#x27;C&#x27;: [0.01, 0.1, 1], &#x27;max_iter&#x27;: [100, 200, 500]},\n",
       "             scoring=&#x27;accuracy&#x27;, verbose=1)</pre></div></div></div><div class=\"sk-parallel\"><div class=\"sk-parallel-item\"><div class=\"sk-item\"><div class=\"sk-label-container\"><div class=\"sk-label sk-toggleable\"><input class=\"sk-toggleable__control sk-hidden--visually\" id=\"sk-estimator-id-2\" type=\"checkbox\" ><label for=\"sk-estimator-id-2\" class=\"sk-toggleable__label sk-toggleable__label-arrow\">estimator: LogisticRegression</label><div class=\"sk-toggleable__content\"><pre>LogisticRegression()</pre></div></div></div><div class=\"sk-serial\"><div class=\"sk-item\"><div class=\"sk-estimator sk-toggleable\"><input class=\"sk-toggleable__control sk-hidden--visually\" id=\"sk-estimator-id-3\" type=\"checkbox\" ><label for=\"sk-estimator-id-3\" class=\"sk-toggleable__label sk-toggleable__label-arrow\">LogisticRegression</label><div class=\"sk-toggleable__content\"><pre>LogisticRegression()</pre></div></div></div></div></div></div></div></div></div></div>"
      ],
      "text/plain": [
       "GridSearchCV(cv=5, estimator=LogisticRegression(),\n",
       "             param_grid={'C': [0.01, 0.1, 1], 'max_iter': [100, 200, 500]},\n",
       "             scoring='accuracy', verbose=1)"
      ]
     },
     "execution_count": 7,
     "metadata": {},
     "output_type": "execute_result"
    }
   ],
   "source": [
    "param_lr = {'C': [0.01, 0.1, 1],\n",
    "            # 'solver': ['saga', 'sag', 'liblinear', 'lbfgs'],\n",
    "            'max_iter': [100, 200, 500]}\n",
    "\n",
    "model_lr = GridSearchCV(LogisticRegression(),\n",
    "                        param_grid=param_lr,\n",
    "                        cv=5,\n",
    "                        scoring='accuracy',\n",
    "                        verbose=1)\n",
    "\n",
    "model_lr.fit(x_train_lr, y_train)"
   ]
  },
  {
   "cell_type": "code",
   "execution_count": 13,
   "metadata": {},
   "outputs": [
    {
     "data": {
      "text/html": [
       "<style>#sk-container-id-4 {color: black;background-color: white;}#sk-container-id-4 pre{padding: 0;}#sk-container-id-4 div.sk-toggleable {background-color: white;}#sk-container-id-4 label.sk-toggleable__label {cursor: pointer;display: block;width: 100%;margin-bottom: 0;padding: 0.3em;box-sizing: border-box;text-align: center;}#sk-container-id-4 label.sk-toggleable__label-arrow:before {content: \"▸\";float: left;margin-right: 0.25em;color: #696969;}#sk-container-id-4 label.sk-toggleable__label-arrow:hover:before {color: black;}#sk-container-id-4 div.sk-estimator:hover label.sk-toggleable__label-arrow:before {color: black;}#sk-container-id-4 div.sk-toggleable__content {max-height: 0;max-width: 0;overflow: hidden;text-align: left;background-color: #f0f8ff;}#sk-container-id-4 div.sk-toggleable__content pre {margin: 0.2em;color: black;border-radius: 0.25em;background-color: #f0f8ff;}#sk-container-id-4 input.sk-toggleable__control:checked~div.sk-toggleable__content {max-height: 200px;max-width: 100%;overflow: auto;}#sk-container-id-4 input.sk-toggleable__control:checked~label.sk-toggleable__label-arrow:before {content: \"▾\";}#sk-container-id-4 div.sk-estimator input.sk-toggleable__control:checked~label.sk-toggleable__label {background-color: #d4ebff;}#sk-container-id-4 div.sk-label input.sk-toggleable__control:checked~label.sk-toggleable__label {background-color: #d4ebff;}#sk-container-id-4 input.sk-hidden--visually {border: 0;clip: rect(1px 1px 1px 1px);clip: rect(1px, 1px, 1px, 1px);height: 1px;margin: -1px;overflow: hidden;padding: 0;position: absolute;width: 1px;}#sk-container-id-4 div.sk-estimator {font-family: monospace;background-color: #f0f8ff;border: 1px dotted black;border-radius: 0.25em;box-sizing: border-box;margin-bottom: 0.5em;}#sk-container-id-4 div.sk-estimator:hover {background-color: #d4ebff;}#sk-container-id-4 div.sk-parallel-item::after {content: \"\";width: 100%;border-bottom: 1px solid gray;flex-grow: 1;}#sk-container-id-4 div.sk-label:hover label.sk-toggleable__label {background-color: #d4ebff;}#sk-container-id-4 div.sk-serial::before {content: \"\";position: absolute;border-left: 1px solid gray;box-sizing: border-box;top: 0;bottom: 0;left: 50%;z-index: 0;}#sk-container-id-4 div.sk-serial {display: flex;flex-direction: column;align-items: center;background-color: white;padding-right: 0.2em;padding-left: 0.2em;position: relative;}#sk-container-id-4 div.sk-item {position: relative;z-index: 1;}#sk-container-id-4 div.sk-parallel {display: flex;align-items: stretch;justify-content: center;background-color: white;position: relative;}#sk-container-id-4 div.sk-item::before, #sk-container-id-4 div.sk-parallel-item::before {content: \"\";position: absolute;border-left: 1px solid gray;box-sizing: border-box;top: 0;bottom: 0;left: 50%;z-index: -1;}#sk-container-id-4 div.sk-parallel-item {display: flex;flex-direction: column;z-index: 1;position: relative;background-color: white;}#sk-container-id-4 div.sk-parallel-item:first-child::after {align-self: flex-end;width: 50%;}#sk-container-id-4 div.sk-parallel-item:last-child::after {align-self: flex-start;width: 50%;}#sk-container-id-4 div.sk-parallel-item:only-child::after {width: 0;}#sk-container-id-4 div.sk-dashed-wrapped {border: 1px dashed gray;margin: 0 0.4em 0.5em 0.4em;box-sizing: border-box;padding-bottom: 0.4em;background-color: white;}#sk-container-id-4 div.sk-label label {font-family: monospace;font-weight: bold;display: inline-block;line-height: 1.2em;}#sk-container-id-4 div.sk-label-container {text-align: center;}#sk-container-id-4 div.sk-container {/* jupyter's `normalize.less` sets `[hidden] { display: none; }` but bootstrap.min.css set `[hidden] { display: none !important; }` so we also need the `!important` here to be able to override the default hidden behavior on the sphinx rendered scikit-learn.org. See: https://github.com/scikit-learn/scikit-learn/issues/21755 */display: inline-block !important;position: relative;}#sk-container-id-4 div.sk-text-repr-fallback {display: none;}</style><div id=\"sk-container-id-4\" class=\"sk-top-container\"><div class=\"sk-text-repr-fallback\"><pre>LogisticRegression(C=1)</pre><b>In a Jupyter environment, please rerun this cell to show the HTML representation or trust the notebook. <br />On GitHub, the HTML representation is unable to render, please try loading this page with nbviewer.org.</b></div><div class=\"sk-container\" hidden><div class=\"sk-item\"><div class=\"sk-estimator sk-toggleable\"><input class=\"sk-toggleable__control sk-hidden--visually\" id=\"sk-estimator-id-8\" type=\"checkbox\" checked><label for=\"sk-estimator-id-8\" class=\"sk-toggleable__label sk-toggleable__label-arrow\">LogisticRegression</label><div class=\"sk-toggleable__content\"><pre>LogisticRegression(C=1)</pre></div></div></div></div></div>"
      ],
      "text/plain": [
       "LogisticRegression(C=1)"
      ]
     },
     "execution_count": 13,
     "metadata": {},
     "output_type": "execute_result"
    }
   ],
   "source": [
    "model_lr.best_estimator_"
   ]
  },
  {
   "cell_type": "code",
   "execution_count": 10,
   "metadata": {},
   "outputs": [
    {
     "name": "stdout",
     "output_type": "stream",
     "text": [
      "              precision    recall  f1-score   support\n",
      "\n",
      "           0       0.85      0.86      0.86       485\n",
      "           1       0.86      0.85      0.86       485\n",
      "\n",
      "    accuracy                           0.86       970\n",
      "   macro avg       0.86      0.86      0.86       970\n",
      "weighted avg       0.86      0.86      0.86       970\n",
      "\n"
     ]
    },
    {
     "data": {
      "image/png": "[encoded data removed]",
      "text/plain": [
       "<Figure size 600x300 with 1 Axes>"
      ]
     },
     "metadata": {},
     "output_type": "display_data"
    }
   ],
   "source": [
    "y_pred_lr = model_lr.predict(x_test_lr)\n",
    "\n",
    "print(classification_report(y_test, y_pred_lr))\n",
    "\n",
    "cm_lr = confusion_matrix(y_test, y_pred_lr)\n",
    "fig, ax = plt.subplots(figsize=(6,3))\n",
    "plot_confusion_matrix(ax, cm_lr, fontsize=10)"
   ]
  },
  {
   "cell_type": "code",
   "execution_count": 64,
   "metadata": {},
   "outputs": [],
   "source": [
    "def f1_acc(test, pred):\n",
    "    f1 = round(f1_score(test, pred), 4) * 100\n",
    "    acc = round(accuracy_score(test, pred), 4) * 100\n",
    "    \n",
    "    return f1, acc"
   ]
  },
  {
   "cell_type": "code",
   "execution_count": 65,
   "metadata": {},
   "outputs": [
    {
     "data": {
      "text/plain": [
       "(85.6, 85.67)"
      ]
     },
     "execution_count": 65,
     "metadata": {},
     "output_type": "execute_result"
    }
   ],
   "source": [
    "lr_f1, lr_acc = f1_acc(y_test, y_pred_lr)\n",
    "lr_f1, lr_acc"
   ]
  },
  {
   "cell_type": "markdown",
   "metadata": {},
   "source": [
    "### 7-2> RandomForest"
   ]
  },
  {
   "cell_type": "code",
   "execution_count": 11,
   "metadata": {},
   "outputs": [
    {
     "name": "stdout",
     "output_type": "stream",
     "text": [
      "Fitting 5 folds for each of 15 candidates, totalling 75 fits\n"
     ]
    },
    {
     "data": {
      "text/html": [
       "<style>#sk-container-id-2 {color: black;background-color: white;}#sk-container-id-2 pre{padding: 0;}#sk-container-id-2 div.sk-toggleable {background-color: white;}#sk-container-id-2 label.sk-toggleable__label {cursor: pointer;display: block;width: 100%;margin-bottom: 0;padding: 0.3em;box-sizing: border-box;text-align: center;}#sk-container-id-2 label.sk-toggleable__label-arrow:before {content: \"▸\";float: left;margin-right: 0.25em;color: #696969;}#sk-container-id-2 label.sk-toggleable__label-arrow:hover:before {color: black;}#sk-container-id-2 div.sk-estimator:hover label.sk-toggleable__label-arrow:before {color: black;}#sk-container-id-2 div.sk-toggleable__content {max-height: 0;max-width: 0;overflow: hidden;text-align: left;background-color: #f0f8ff;}#sk-container-id-2 div.sk-toggleable__content pre {margin: 0.2em;color: black;border-radius: 0.25em;background-color: #f0f8ff;}#sk-container-id-2 input.sk-toggleable__control:checked~div.sk-toggleable__content {max-height: 200px;max-width: 100%;overflow: auto;}#sk-container-id-2 input.sk-toggleable__control:checked~label.sk-toggleable__label-arrow:before {content: \"▾\";}#sk-container-id-2 div.sk-estimator input.sk-toggleable__control:checked~label.sk-toggleable__label {background-color: #d4ebff;}#sk-container-id-2 div.sk-label input.sk-toggleable__control:checked~label.sk-toggleable__label {background-color: #d4ebff;}#sk-container-id-2 input.sk-hidden--visually {border: 0;clip: rect(1px 1px 1px 1px);clip: rect(1px, 1px, 1px, 1px);height: 1px;margin: -1px;overflow: hidden;padding: 0;position: absolute;width: 1px;}#sk-container-id-2 div.sk-estimator {font-family: monospace;background-color: #f0f8ff;border: 1px dotted black;border-radius: 0.25em;box-sizing: border-box;margin-bottom: 0.5em;}#sk-container-id-2 div.sk-estimator:hover {background-color: #d4ebff;}#sk-container-id-2 div.sk-parallel-item::after {content: \"\";width: 100%;border-bottom: 1px solid gray;flex-grow: 1;}#sk-container-id-2 div.sk-label:hover label.sk-toggleable__label {background-color: #d4ebff;}#sk-container-id-2 div.sk-serial::before {content: \"\";position: absolute;border-left: 1px solid gray;box-sizing: border-box;top: 0;bottom: 0;left: 50%;z-index: 0;}#sk-container-id-2 div.sk-serial {display: flex;flex-direction: column;align-items: center;background-color: white;padding-right: 0.2em;padding-left: 0.2em;position: relative;}#sk-container-id-2 div.sk-item {position: relative;z-index: 1;}#sk-container-id-2 div.sk-parallel {display: flex;align-items: stretch;justify-content: center;background-color: white;position: relative;}#sk-container-id-2 div.sk-item::before, #sk-container-id-2 div.sk-parallel-item::before {content: \"\";position: absolute;border-left: 1px solid gray;box-sizing: border-box;top: 0;bottom: 0;left: 50%;z-index: -1;}#sk-container-id-2 div.sk-parallel-item {display: flex;flex-direction: column;z-index: 1;position: relative;background-color: white;}#sk-container-id-2 div.sk-parallel-item:first-child::after {align-self: flex-end;width: 50%;}#sk-container-id-2 div.sk-parallel-item:last-child::after {align-self: flex-start;width: 50%;}#sk-container-id-2 div.sk-parallel-item:only-child::after {width: 0;}#sk-container-id-2 div.sk-dashed-wrapped {border: 1px dashed gray;margin: 0 0.4em 0.5em 0.4em;box-sizing: border-box;padding-bottom: 0.4em;background-color: white;}#sk-container-id-2 div.sk-label label {font-family: monospace;font-weight: bold;display: inline-block;line-height: 1.2em;}#sk-container-id-2 div.sk-label-container {text-align: center;}#sk-container-id-2 div.sk-container {/* jupyter's `normalize.less` sets `[hidden] { display: none; }` but bootstrap.min.css set `[hidden] { display: none !important; }` so we also need the `!important` here to be able to override the default hidden behavior on the sphinx rendered scikit-learn.org. See: https://github.com/scikit-learn/scikit-learn/issues/21755 */display: inline-block !important;position: relative;}#sk-container-id-2 div.sk-text-repr-fallback {display: none;}</style><div id=\"sk-container-id-2\" class=\"sk-top-container\"><div class=\"sk-text-repr-fallback\"><pre>GridSearchCV(cv=5, estimator=RandomForestClassifier(random_state=7),\n",
       "             param_grid={&#x27;max_depth&#x27;: [3, 5, 7, 9, 11],\n",
       "                         &#x27;min_samples_split&#x27;: [2, 5, 10]},\n",
       "             scoring=&#x27;accuracy&#x27;, verbose=1)</pre><b>In a Jupyter environment, please rerun this cell to show the HTML representation or trust the notebook. <br />On GitHub, the HTML representation is unable to render, please try loading this page with nbviewer.org.</b></div><div class=\"sk-container\" hidden><div class=\"sk-item sk-dashed-wrapped\"><div class=\"sk-label-container\"><div class=\"sk-label sk-toggleable\"><input class=\"sk-toggleable__control sk-hidden--visually\" id=\"sk-estimator-id-4\" type=\"checkbox\" ><label for=\"sk-estimator-id-4\" class=\"sk-toggleable__label sk-toggleable__label-arrow\">GridSearchCV</label><div class=\"sk-toggleable__content\"><pre>GridSearchCV(cv=5, estimator=RandomForestClassifier(random_state=7),\n",
       "             param_grid={&#x27;max_depth&#x27;: [3, 5, 7, 9, 11],\n",
       "                         &#x27;min_samples_split&#x27;: [2, 5, 10]},\n",
       "             scoring=&#x27;accuracy&#x27;, verbose=1)</pre></div></div></div><div class=\"sk-parallel\"><div class=\"sk-parallel-item\"><div class=\"sk-item\"><div class=\"sk-label-container\"><div class=\"sk-label sk-toggleable\"><input class=\"sk-toggleable__control sk-hidden--visually\" id=\"sk-estimator-id-5\" type=\"checkbox\" ><label for=\"sk-estimator-id-5\" class=\"sk-toggleable__label sk-toggleable__label-arrow\">estimator: RandomForestClassifier</label><div class=\"sk-toggleable__content\"><pre>RandomForestClassifier(random_state=7)</pre></div></div></div><div class=\"sk-serial\"><div class=\"sk-item\"><div class=\"sk-estimator sk-toggleable\"><input class=\"sk-toggleable__control sk-hidden--visually\" id=\"sk-estimator-id-6\" type=\"checkbox\" ><label for=\"sk-estimator-id-6\" class=\"sk-toggleable__label sk-toggleable__label-arrow\">RandomForestClassifier</label><div class=\"sk-toggleable__content\"><pre>RandomForestClassifier(random_state=7)</pre></div></div></div></div></div></div></div></div></div></div>"
      ],
      "text/plain": [
       "GridSearchCV(cv=5, estimator=RandomForestClassifier(random_state=7),\n",
       "             param_grid={'max_depth': [3, 5, 7, 9, 11],\n",
       "                         'min_samples_split': [2, 5, 10]},\n",
       "             scoring='accuracy', verbose=1)"
      ]
     },
     "execution_count": 11,
     "metadata": {},
     "output_type": "execute_result"
    }
   ],
   "source": [
    "param_rf = {'max_depth': [3, 5, 7, 9, 11],\n",
    "            'min_samples_split': [2, 5, 10]}\n",
    "\n",
    "model_rf = GridSearchCV(RandomForestClassifier(random_state=7),\n",
    "                        param_grid=param_rf,\n",
    "                        cv=5,\n",
    "                        scoring='accuracy',\n",
    "                        verbose=1)\n",
    "\n",
    "model_rf.fit(x_train, y_train)"
   ]
  },
  {
   "cell_type": "code",
   "execution_count": 12,
   "metadata": {},
   "outputs": [
    {
     "data": {
      "text/html": [
       "<style>#sk-container-id-3 {color: black;background-color: white;}#sk-container-id-3 pre{padding: 0;}#sk-container-id-3 div.sk-toggleable {background-color: white;}#sk-container-id-3 label.sk-toggleable__label {cursor: pointer;display: block;width: 100%;margin-bottom: 0;padding: 0.3em;box-sizing: border-box;text-align: center;}#sk-container-id-3 label.sk-toggleable__label-arrow:before {content: \"▸\";float: left;margin-right: 0.25em;color: #696969;}#sk-container-id-3 label.sk-toggleable__label-arrow:hover:before {color: black;}#sk-container-id-3 div.sk-estimator:hover label.sk-toggleable__label-arrow:before {color: black;}#sk-container-id-3 div.sk-toggleable__content {max-height: 0;max-width: 0;overflow: hidden;text-align: left;background-color: #f0f8ff;}#sk-container-id-3 div.sk-toggleable__content pre {margin: 0.2em;color: black;border-radius: 0.25em;background-color: #f0f8ff;}#sk-container-id-3 input.sk-toggleable__control:checked~div.sk-toggleable__content {max-height: 200px;max-width: 100%;overflow: auto;}#sk-container-id-3 input.sk-toggleable__control:checked~label.sk-toggleable__label-arrow:before {content: \"▾\";}#sk-container-id-3 div.sk-estimator input.sk-toggleable__control:checked~label.sk-toggleable__label {background-color: #d4ebff;}#sk-container-id-3 div.sk-label input.sk-toggleable__control:checked~label.sk-toggleable__label {background-color: #d4ebff;}#sk-container-id-3 input.sk-hidden--visually {border: 0;clip: rect(1px 1px 1px 1px);clip: rect(1px, 1px, 1px, 1px);height: 1px;margin: -1px;overflow: hidden;padding: 0;position: absolute;width: 1px;}#sk-container-id-3 div.sk-estimator {font-family: monospace;background-color: #f0f8ff;border: 1px dotted black;border-radius: 0.25em;box-sizing: border-box;margin-bottom: 0.5em;}#sk-container-id-3 div.sk-estimator:hover {background-color: #d4ebff;}#sk-container-id-3 div.sk-parallel-item::after {content: \"\";width: 100%;border-bottom: 1px solid gray;flex-grow: 1;}#sk-container-id-3 div.sk-label:hover label.sk-toggleable__label {background-color: #d4ebff;}#sk-container-id-3 div.sk-serial::before {content: \"\";position: absolute;border-left: 1px solid gray;box-sizing: border-box;top: 0;bottom: 0;left: 50%;z-index: 0;}#sk-container-id-3 div.sk-serial {display: flex;flex-direction: column;align-items: center;background-color: white;padding-right: 0.2em;padding-left: 0.2em;position: relative;}#sk-container-id-3 div.sk-item {position: relative;z-index: 1;}#sk-container-id-3 div.sk-parallel {display: flex;align-items: stretch;justify-content: center;background-color: white;position: relative;}#sk-container-id-3 div.sk-item::before, #sk-container-id-3 div.sk-parallel-item::before {content: \"\";position: absolute;border-left: 1px solid gray;box-sizing: border-box;top: 0;bottom: 0;left: 50%;z-index: -1;}#sk-container-id-3 div.sk-parallel-item {display: flex;flex-direction: column;z-index: 1;position: relative;background-color: white;}#sk-container-id-3 div.sk-parallel-item:first-child::after {align-self: flex-end;width: 50%;}#sk-container-id-3 div.sk-parallel-item:last-child::after {align-self: flex-start;width: 50%;}#sk-container-id-3 div.sk-parallel-item:only-child::after {width: 0;}#sk-container-id-3 div.sk-dashed-wrapped {border: 1px dashed gray;margin: 0 0.4em 0.5em 0.4em;box-sizing: border-box;padding-bottom: 0.4em;background-color: white;}#sk-container-id-3 div.sk-label label {font-family: monospace;font-weight: bold;display: inline-block;line-height: 1.2em;}#sk-container-id-3 div.sk-label-container {text-align: center;}#sk-container-id-3 div.sk-container {/* jupyter's `normalize.less` sets `[hidden] { display: none; }` but bootstrap.min.css set `[hidden] { display: none !important; }` so we also need the `!important` here to be able to override the default hidden behavior on the sphinx rendered scikit-learn.org. See: https://github.com/scikit-learn/scikit-learn/issues/21755 */display: inline-block !important;position: relative;}#sk-container-id-3 div.sk-text-repr-fallback {display: none;}</style><div id=\"sk-container-id-3\" class=\"sk-top-container\"><div class=\"sk-text-repr-fallback\"><pre>RandomForestClassifier(max_depth=11, min_samples_split=5, random_state=7)</pre><b>In a Jupyter environment, please rerun this cell to show the HTML representation or trust the notebook. <br />On GitHub, the HTML representation is unable to render, please try loading this page with nbviewer.org.</b></div><div class=\"sk-container\" hidden><div class=\"sk-item\"><div class=\"sk-estimator sk-toggleable\"><input class=\"sk-toggleable__control sk-hidden--visually\" id=\"sk-estimator-id-7\" type=\"checkbox\" checked><label for=\"sk-estimator-id-7\" class=\"sk-toggleable__label sk-toggleable__label-arrow\">RandomForestClassifier</label><div class=\"sk-toggleable__content\"><pre>RandomForestClassifier(max_depth=11, min_samples_split=5, random_state=7)</pre></div></div></div></div></div>"
      ],
      "text/plain": [
       "RandomForestClassifier(max_depth=11, min_samples_split=5, random_state=7)"
      ]
     },
     "execution_count": 12,
     "metadata": {},
     "output_type": "execute_result"
    }
   ],
   "source": [
    "model_rf.best_estimator_"
   ]
  },
  {
   "cell_type": "code",
   "execution_count": 14,
   "metadata": {},
   "outputs": [
    {
     "name": "stdout",
     "output_type": "stream",
     "text": [
      "              precision    recall  f1-score   support\n",
      "\n",
      "           0       0.94      0.93      0.93       485\n",
      "           1       0.93      0.94      0.94       485\n",
      "\n",
      "    accuracy                           0.94       970\n",
      "   macro avg       0.94      0.94      0.94       970\n",
      "weighted avg       0.94      0.94      0.94       970\n",
      "\n"
     ]
    },
    {
     "data": {
      "image/png": "[encoded data removed]",
      "text/plain": [
       "<Figure size 600x300 with 1 Axes>"
      ]
     },
     "metadata": {},
     "output_type": "display_data"
    }
   ],
   "source": [
    "y_pred_rf = model_rf.predict(x_test)\n",
    "\n",
    "print(classification_report(y_test, y_pred_rf))\n",
    "\n",
    "cm_lr = confusion_matrix(y_test, y_pred_rf)\n",
    "fig, ax = plt.subplots(figsize=(6,3))\n",
    "plot_confusion_matrix(ax, cm_lr, fontsize=10)"
   ]
  },
  {
   "cell_type": "code",
   "execution_count": 66,
   "metadata": {},
   "outputs": [
    {
     "data": {
      "text/plain": [
       "(93.54, 93.51)"
      ]
     },
     "execution_count": 66,
     "metadata": {},
     "output_type": "execute_result"
    }
   ],
   "source": [
    "rf_f1, rf_acc = f1_acc(y_test, y_pred_rf)\n",
    "rf_f1, rf_acc"
   ]
  },
  {
   "cell_type": "markdown",
   "metadata": {},
   "source": [
    "### 7-3> Tensorflow Keras"
   ]
  },
  {
   "cell_type": "code",
   "execution_count": null,
   "metadata": {},
   "outputs": [],
   "source": [
    "from keras.callbacks import EarlyStopping"
   ]
  },
  {
   "cell_type": "code",
   "execution_count": 24,
   "metadata": {},
   "outputs": [
    {
     "data": {
      "text/plain": [
       "((2261, 20), (2261,))"
      ]
     },
     "execution_count": 24,
     "metadata": {},
     "output_type": "execute_result"
    }
   ],
   "source": [
    "x_train.shape, y_train.shape"
   ]
  },
  {
   "cell_type": "markdown",
   "metadata": {},
   "source": [
    "* One-Hot 인코딩 pass\n",
    "* y값이 0또는 1이므로 output_layer의 유닛수를 1로 하면 똑같음. (원-핫 적용하면 2로)"
   ]
  },
  {
   "cell_type": "code",
   "execution_count": 16,
   "metadata": {},
   "outputs": [
    {
     "data": {
      "text/plain": [
       "((2261, 2), (970, 2))"
      ]
     },
     "execution_count": 16,
     "metadata": {},
     "output_type": "execute_result"
    }
   ],
   "source": [
    "# from keras.utils import to_categorical\n",
    "\n",
    "# # len_y = len(set(np.unique(y_train)))\n",
    "# len_y = y_train.nunique() # Series.nunique\n",
    "\n",
    "# y_train_tf = to_categorical(y_train, len_y)\n",
    "# y_test_tf = to_categorical(y_test, len_y)\n",
    "# y_train_tf.shape, y_test_tf.shape"
   ]
  },
  {
   "cell_type": "code",
   "execution_count": 25,
   "metadata": {},
   "outputs": [
    {
     "name": "stdout",
     "output_type": "stream",
     "text": [
      "Model: \"model\"\n",
      "_________________________________________________________________\n",
      " Layer (type)                Output Shape              Param #   \n",
      "=================================================================\n",
      " input_1 (InputLayer)        [(None, 20)]              0         \n",
      "                                                                 \n",
      " dense (Dense)               (None, 256)               5376      \n",
      "                                                                 \n",
      " dense_1 (Dense)             (None, 256)               65792     \n",
      "                                                                 \n",
      " dense_2 (Dense)             (None, 64)                16448     \n",
      "                                                                 \n",
      " dense_3 (Dense)             (None, 1)                 65        \n",
      "                                                                 \n",
      "=================================================================\n",
      "Total params: 87,681\n",
      "Trainable params: 87,681\n",
      "Non-trainable params: 0\n",
      "_________________________________________________________________\n"
     ]
    }
   ],
   "source": [
    "# python 3.9.6 에서는 아래 코드를 안쓰면 warning, but summary 형태 다름\n",
    "# tf.compat.v1.reset_default_graph()\n",
    "# python 3.10.13 에서는 warning 없음\n",
    "keras.backend.clear_session()\n",
    "\n",
    "il = keras.layers.Input(shape=(20,))\n",
    "hl1 = keras.layers.Dense(256, activation='relu')(il) # 20*256 + 256 (il*hl1 + hl1)\n",
    "hl2 = keras.layers.Dense(256, activation='relu')(hl1) # 256*256 + 256 (hl1*hl2 + hl2)\n",
    "hl3 = keras.layers.Dense(64, activation='relu')(hl2) # 256*64 + 64 (hl2*hl3 + hl3)\n",
    "ol = keras.layers.Dense(1, activation='sigmoid')(hl3) # 64*1 + 1 (hl3*ol + ol)\n",
    "\n",
    "model_tf = keras.models.Model(il, ol)\n",
    "\n",
    "model_tf.compile(loss=keras.losses.binary_crossentropy,\n",
    "                 metrics=['accuracy'],\n",
    "                 optimizer='adam')\n",
    "\n",
    "model_tf.summary()"
   ]
  },
  {
   "cell_type": "code",
   "execution_count": 29,
   "metadata": {},
   "outputs": [
    {
     "data": {
      "text/plain": [
       "(0    1\n",
       " 1    1\n",
       " 2    1\n",
       " 3    1\n",
       " 4    1\n",
       " Name: label, dtype: int64,\n",
       " 0    1\n",
       " 1    0\n",
       " 2    1\n",
       " 3    1\n",
       " 4    1\n",
       " Name: label, dtype: int64)"
      ]
     },
     "execution_count": 29,
     "metadata": {},
     "output_type": "execute_result"
    }
   ],
   "source": [
    "y_test[:5], y_train[:5]"
   ]
  },
  {
   "cell_type": "markdown",
   "metadata": {},
   "source": [
    "* 61 : mini-batch 수\n",
    "    - 전체 데이터(2261)를 61묶음으로 나누어서 1epoch마다 가중치 업데이트\n",
    "    - batch-size=32 default\n",
    "    - 1/61: 0~31, ... 61/61: 2201~2261\n",
    "* 50 : epoch 수\n",
    "    - 현재 학습 데이터를 한 번씩 학습시킬 횟수"
   ]
  },
  {
   "cell_type": "code",
   "execution_count": 27,
   "metadata": {},
   "outputs": [],
   "source": [
    "es = EarlyStopping(monitor='val_loss',  # 이전 학습 상황과 비교하여 개선 여부를 판단할 지표, fit에서 validation_split(검증 데이터 분할)을 지정해야함\n",
    "                   min_delta=0,         # '의미 있는 변화'로 간주할 최소 값, 0이면 지표가 조금이라도 개선되면 계속 훈련\n",
    "                   patience=5,         # 횟수만큼 지표가 개선되지 않아도 훈련을 중단하지 않고 계속\n",
    "                   verbose=1,\n",
    "                   restore_best_weights=True) # 훈련 중 가장 성능이 좋았던 가중치 복원"
   ]
  },
  {
   "cell_type": "code",
   "execution_count": 31,
   "metadata": {},
   "outputs": [
    {
     "name": "stdout",
     "output_type": "stream",
     "text": [
      "Epoch 1/50\n",
      "61/61 [==============================] - 0s 3ms/step - loss: 0.1585 - accuracy: 0.9381 - val_loss: 0.2453 - val_accuracy: 0.9088\n",
      "Epoch 2/50\n",
      "61/61 [==============================] - 0s 1ms/step - loss: 0.3621 - accuracy: 0.8917 - val_loss: 0.2243 - val_accuracy: 0.8971\n",
      "Epoch 3/50\n",
      "61/61 [==============================] - 0s 1ms/step - loss: 0.2595 - accuracy: 0.9151 - val_loss: 0.2268 - val_accuracy: 0.9088\n",
      "Epoch 4/50\n",
      "61/61 [==============================] - 0s 1ms/step - loss: 0.1792 - accuracy: 0.9328 - val_loss: 0.1935 - val_accuracy: 0.9324\n",
      "Epoch 5/50\n",
      "61/61 [==============================] - 0s 1ms/step - loss: 0.1652 - accuracy: 0.9370 - val_loss: 0.1790 - val_accuracy: 0.9353\n",
      "Epoch 6/50\n",
      "61/61 [==============================] - 0s 1ms/step - loss: 0.1485 - accuracy: 0.9417 - val_loss: 0.1653 - val_accuracy: 0.9382\n",
      "Epoch 7/50\n",
      "61/61 [==============================] - 0s 2ms/step - loss: 0.1389 - accuracy: 0.9474 - val_loss: 0.1613 - val_accuracy: 0.9265\n",
      "Epoch 8/50\n",
      "61/61 [==============================] - 0s 1ms/step - loss: 0.1307 - accuracy: 0.9438 - val_loss: 0.1656 - val_accuracy: 0.9324\n",
      "Epoch 9/50\n",
      "61/61 [==============================] - 0s 1ms/step - loss: 0.1399 - accuracy: 0.9448 - val_loss: 0.1869 - val_accuracy: 0.9118\n",
      "Epoch 10/50\n",
      "61/61 [==============================] - 0s 1ms/step - loss: 0.1296 - accuracy: 0.9479 - val_loss: 0.1708 - val_accuracy: 0.9265\n",
      "Epoch 11/50\n",
      "61/61 [==============================] - 0s 1ms/step - loss: 0.1208 - accuracy: 0.9505 - val_loss: 0.1899 - val_accuracy: 0.9235\n",
      "Epoch 12/50\n",
      " 1/61 [..............................] - ETA: 0s - loss: 0.0463 - accuracy: 0.9688Restoring model weights from the end of the best epoch: 7.\n",
      "61/61 [==============================] - 0s 1ms/step - loss: 0.1367 - accuracy: 0.9490 - val_loss: 0.2103 - val_accuracy: 0.9118\n",
      "Epoch 12: early stopping\n"
     ]
    },
    {
     "data": {
      "text/plain": [
       "<keras.callbacks.History at 0x1ea17eb40d0>"
      ]
     },
     "execution_count": 31,
     "metadata": {},
     "output_type": "execute_result"
    }
   ],
   "source": [
    "model_tf.fit(x_train, y_train,\n",
    "             validation_split=0.15,\n",
    "             callbacks=[es],\n",
    "             epochs=50,\n",
    "             verbose=1,\n",
    "             shuffle=True)"
   ]
  },
  {
   "cell_type": "code",
   "execution_count": 32,
   "metadata": {},
   "outputs": [
    {
     "name": "stdout",
     "output_type": "stream",
     "text": [
      "31/31 [==============================] - 0s 441us/step\n"
     ]
    },
    {
     "data": {
      "text/plain": [
       "((970, 1),\n",
       " array([[0.9967904 ],\n",
       "        [0.95986056],\n",
       "        [1.        ],\n",
       "        [0.9929933 ],\n",
       "        [0.9901587 ]], dtype=float32))"
      ]
     },
     "execution_count": 32,
     "metadata": {},
     "output_type": "execute_result"
    }
   ],
   "source": [
    "y_pred_tf = model_tf.predict(x_test)\n",
    "y_pred_tf.shape, y_pred_tf[:5]"
   ]
  },
  {
   "cell_type": "code",
   "execution_count": 43,
   "metadata": {},
   "outputs": [
    {
     "data": {
      "text/plain": [
       "((970,), (970,))"
      ]
     },
     "execution_count": 43,
     "metadata": {},
     "output_type": "execute_result"
    }
   ],
   "source": [
    "y_pred_tf2 = np.round(y_pred_tf, 0).reshape(-1)\n",
    "y_test.shape, y_pred_tf2.shape"
   ]
  },
  {
   "cell_type": "code",
   "execution_count": 44,
   "metadata": {},
   "outputs": [
    {
     "name": "stdout",
     "output_type": "stream",
     "text": [
      "              precision    recall  f1-score   support\n",
      "\n",
      "           0       0.90      0.94      0.92       485\n",
      "           1       0.94      0.90      0.92       485\n",
      "\n",
      "    accuracy                           0.92       970\n",
      "   macro avg       0.92      0.92      0.92       970\n",
      "weighted avg       0.92      0.92      0.92       970\n",
      "\n"
     ]
    },
    {
     "data": {
      "image/png": "[encoded data removed]",
      "text/plain": [
       "<Figure size 600x300 with 1 Axes>"
      ]
     },
     "metadata": {},
     "output_type": "display_data"
    }
   ],
   "source": [
    "print(classification_report(y_test, y_pred_tf2))\n",
    "\n",
    "cm_tf = confusion_matrix(y_test, y_pred_tf2)\n",
    "fig, ax = plt.subplots(figsize=(6,3))\n",
    "plot_confusion_matrix(ax, cm_tf, fontsize=10)"
   ]
  },
  {
   "cell_type": "code",
   "execution_count": 67,
   "metadata": {},
   "outputs": [
    {
     "data": {
      "text/plain": [
       "(91.69, 91.86)"
      ]
     },
     "execution_count": 67,
     "metadata": {},
     "output_type": "execute_result"
    }
   ],
   "source": [
    "tf_f1, tf_acc = f1_acc(y_test, y_pred_tf2)\n",
    "tf_f1, tf_acc"
   ]
  },
  {
   "cell_type": "markdown",
   "metadata": {},
   "source": [
    "### 7-4> 스케일링 진행 후 다시 학습\n",
    "* f1-score 와 accuracy_score 가 0.94로 가장 높았던 **RandomForest** 모델 선택"
   ]
  },
  {
   "cell_type": "code",
   "execution_count": 57,
   "metadata": {},
   "outputs": [
    {
     "data": {
      "text/html": [
       "<style>#sk-container-id-5 {color: black;background-color: white;}#sk-container-id-5 pre{padding: 0;}#sk-container-id-5 div.sk-toggleable {background-color: white;}#sk-container-id-5 label.sk-toggleable__label {cursor: pointer;display: block;width: 100%;margin-bottom: 0;padding: 0.3em;box-sizing: border-box;text-align: center;}#sk-container-id-5 label.sk-toggleable__label-arrow:before {content: \"▸\";float: left;margin-right: 0.25em;color: #696969;}#sk-container-id-5 label.sk-toggleable__label-arrow:hover:before {color: black;}#sk-container-id-5 div.sk-estimator:hover label.sk-toggleable__label-arrow:before {color: black;}#sk-container-id-5 div.sk-toggleable__content {max-height: 0;max-width: 0;overflow: hidden;text-align: left;background-color: #f0f8ff;}#sk-container-id-5 div.sk-toggleable__content pre {margin: 0.2em;color: black;border-radius: 0.25em;background-color: #f0f8ff;}#sk-container-id-5 input.sk-toggleable__control:checked~div.sk-toggleable__content {max-height: 200px;max-width: 100%;overflow: auto;}#sk-container-id-5 input.sk-toggleable__control:checked~label.sk-toggleable__label-arrow:before {content: \"▾\";}#sk-container-id-5 div.sk-estimator input.sk-toggleable__control:checked~label.sk-toggleable__label {background-color: #d4ebff;}#sk-container-id-5 div.sk-label input.sk-toggleable__control:checked~label.sk-toggleable__label {background-color: #d4ebff;}#sk-container-id-5 input.sk-hidden--visually {border: 0;clip: rect(1px 1px 1px 1px);clip: rect(1px, 1px, 1px, 1px);height: 1px;margin: -1px;overflow: hidden;padding: 0;position: absolute;width: 1px;}#sk-container-id-5 div.sk-estimator {font-family: monospace;background-color: #f0f8ff;border: 1px dotted black;border-radius: 0.25em;box-sizing: border-box;margin-bottom: 0.5em;}#sk-container-id-5 div.sk-estimator:hover {background-color: #d4ebff;}#sk-container-id-5 div.sk-parallel-item::after {content: \"\";width: 100%;border-bottom: 1px solid gray;flex-grow: 1;}#sk-container-id-5 div.sk-label:hover label.sk-toggleable__label {background-color: #d4ebff;}#sk-container-id-5 div.sk-serial::before {content: \"\";position: absolute;border-left: 1px solid gray;box-sizing: border-box;top: 0;bottom: 0;left: 50%;z-index: 0;}#sk-container-id-5 div.sk-serial {display: flex;flex-direction: column;align-items: center;background-color: white;padding-right: 0.2em;padding-left: 0.2em;position: relative;}#sk-container-id-5 div.sk-item {position: relative;z-index: 1;}#sk-container-id-5 div.sk-parallel {display: flex;align-items: stretch;justify-content: center;background-color: white;position: relative;}#sk-container-id-5 div.sk-item::before, #sk-container-id-5 div.sk-parallel-item::before {content: \"\";position: absolute;border-left: 1px solid gray;box-sizing: border-box;top: 0;bottom: 0;left: 50%;z-index: -1;}#sk-container-id-5 div.sk-parallel-item {display: flex;flex-direction: column;z-index: 1;position: relative;background-color: white;}#sk-container-id-5 div.sk-parallel-item:first-child::after {align-self: flex-end;width: 50%;}#sk-container-id-5 div.sk-parallel-item:last-child::after {align-self: flex-start;width: 50%;}#sk-container-id-5 div.sk-parallel-item:only-child::after {width: 0;}#sk-container-id-5 div.sk-dashed-wrapped {border: 1px dashed gray;margin: 0 0.4em 0.5em 0.4em;box-sizing: border-box;padding-bottom: 0.4em;background-color: white;}#sk-container-id-5 div.sk-label label {font-family: monospace;font-weight: bold;display: inline-block;line-height: 1.2em;}#sk-container-id-5 div.sk-label-container {text-align: center;}#sk-container-id-5 div.sk-container {/* jupyter's `normalize.less` sets `[hidden] { display: none; }` but bootstrap.min.css set `[hidden] { display: none !important; }` so we also need the `!important` here to be able to override the default hidden behavior on the sphinx rendered scikit-learn.org. See: https://github.com/scikit-learn/scikit-learn/issues/21755 */display: inline-block !important;position: relative;}#sk-container-id-5 div.sk-text-repr-fallback {display: none;}</style><div id=\"sk-container-id-5\" class=\"sk-top-container\"><div class=\"sk-text-repr-fallback\"><pre>RandomForestClassifier(max_depth=11, min_samples_split=5, random_state=7)</pre><b>In a Jupyter environment, please rerun this cell to show the HTML representation or trust the notebook. <br />On GitHub, the HTML representation is unable to render, please try loading this page with nbviewer.org.</b></div><div class=\"sk-container\" hidden><div class=\"sk-item\"><div class=\"sk-estimator sk-toggleable\"><input class=\"sk-toggleable__control sk-hidden--visually\" id=\"sk-estimator-id-9\" type=\"checkbox\" checked><label for=\"sk-estimator-id-9\" class=\"sk-toggleable__label sk-toggleable__label-arrow\">RandomForestClassifier</label><div class=\"sk-toggleable__content\"><pre>RandomForestClassifier(max_depth=11, min_samples_split=5, random_state=7)</pre></div></div></div></div></div>"
      ],
      "text/plain": [
       "RandomForestClassifier(max_depth=11, min_samples_split=5, random_state=7)"
      ]
     },
     "execution_count": 57,
     "metadata": {},
     "output_type": "execute_result"
    }
   ],
   "source": [
    "model_rf.best_estimator_"
   ]
  },
  {
   "cell_type": "code",
   "execution_count": 75,
   "metadata": {},
   "outputs": [
    {
     "name": "stdout",
     "output_type": "stream",
     "text": [
      "전체 컬럼수 : 20\n",
      "정규분포와 비슷한 컬럼수 : 2\n",
      "범주형 컬럼수 : 4\n",
      "이상치 많은 컬럼수 : 14\n"
     ]
    }
   ],
   "source": [
    "zscore_cols = ['url_hostname_len', 'url_entropy']\n",
    "log_cols = list(set(x_train.select_dtypes(include=['float64']).columns) - set(zscore_cols))\n",
    "cat_cols = x_train.select_dtypes(include=['int']).columns\n",
    "\n",
    "print(\"전체 컬럼수 : %d\\n정규분포와 비슷한 컬럼수 : %d\\n범주형 컬럼수 : %d\\n이상치 많은 컬럼수 : %d\"\n",
    "       % (len(x_train.columns), len(zscore_cols),\n",
    "      len(cat_cols), len(log_cols)))"
   ]
  },
  {
   "cell_type": "code",
   "execution_count": 76,
   "metadata": {},
   "outputs": [
    {
     "data": {
      "text/html": [
       "<div>\n",
       "<style scoped>\n",
       "    .dataframe tbody tr th:only-of-type {\n",
       "        vertical-align: middle;\n",
       "    }\n",
       "\n",
       "    .dataframe tbody tr th {\n",
       "        vertical-align: top;\n",
       "    }\n",
       "\n",
       "    .dataframe thead th {\n",
       "        text-align: right;\n",
       "    }\n",
       "</style>\n",
       "<table border=\"1\" class=\"dataframe\">\n",
       "  <thead>\n",
       "    <tr style=\"text-align: right;\">\n",
       "      <th></th>\n",
       "      <th>url_hostname_len</th>\n",
       "      <th>url_entropy</th>\n",
       "    </tr>\n",
       "  </thead>\n",
       "  <tbody>\n",
       "    <tr>\n",
       "      <th>0</th>\n",
       "      <td>17.0</td>\n",
       "      <td>5.025647</td>\n",
       "    </tr>\n",
       "    <tr>\n",
       "      <th>1</th>\n",
       "      <td>17.0</td>\n",
       "      <td>4.053509</td>\n",
       "    </tr>\n",
       "  </tbody>\n",
       "</table>\n",
       "</div>"
      ],
      "text/plain": [
       "   url_hostname_len  url_entropy\n",
       "0              17.0     5.025647\n",
       "1              17.0     4.053509"
      ]
     },
     "metadata": {},
     "output_type": "display_data"
    },
    {
     "data": {
      "text/html": [
       "<div>\n",
       "<style scoped>\n",
       "    .dataframe tbody tr th:only-of-type {\n",
       "        vertical-align: middle;\n",
       "    }\n",
       "\n",
       "    .dataframe tbody tr th {\n",
       "        vertical-align: top;\n",
       "    }\n",
       "\n",
       "    .dataframe thead th {\n",
       "        text-align: right;\n",
       "    }\n",
       "</style>\n",
       "<table border=\"1\" class=\"dataframe\">\n",
       "  <thead>\n",
       "    <tr style=\"text-align: right;\">\n",
       "      <th></th>\n",
       "      <th>html_num_tags('embed')</th>\n",
       "      <th>html_num_tags('object')</th>\n",
       "      <th>url_len</th>\n",
       "      <th>html_num_tags('script')</th>\n",
       "      <th>html_num_tags('div')</th>\n",
       "      <th>html_num_tags('iframe')</th>\n",
       "      <th>html_num_tags('a')</th>\n",
       "      <th>url_num_query_para</th>\n",
       "      <th>html_num_tags('head')</th>\n",
       "      <th>url_num_underscores</th>\n",
       "      <th>html_num_tags('body')</th>\n",
       "      <th>html_num_tags('form')</th>\n",
       "      <th>url_num_dots</th>\n",
       "      <th>url_num_hyphens_dom</th>\n",
       "    </tr>\n",
       "  </thead>\n",
       "  <tbody>\n",
       "    <tr>\n",
       "      <th>0</th>\n",
       "      <td>0.0</td>\n",
       "      <td>0.0</td>\n",
       "      <td>126.0</td>\n",
       "      <td>14.0</td>\n",
       "      <td>46.0</td>\n",
       "      <td>0.0</td>\n",
       "      <td>0.0</td>\n",
       "      <td>2.0</td>\n",
       "      <td>1.0</td>\n",
       "      <td>5.0</td>\n",
       "      <td>1.0</td>\n",
       "      <td>1.0</td>\n",
       "      <td>2.0</td>\n",
       "      <td>0.0</td>\n",
       "    </tr>\n",
       "    <tr>\n",
       "      <th>1</th>\n",
       "      <td>0.0</td>\n",
       "      <td>0.0</td>\n",
       "      <td>17.0</td>\n",
       "      <td>14.0</td>\n",
       "      <td>74.0</td>\n",
       "      <td>2.0</td>\n",
       "      <td>132.0</td>\n",
       "      <td>0.0</td>\n",
       "      <td>1.0</td>\n",
       "      <td>0.0</td>\n",
       "      <td>1.0</td>\n",
       "      <td>1.0</td>\n",
       "      <td>2.0</td>\n",
       "      <td>0.0</td>\n",
       "    </tr>\n",
       "  </tbody>\n",
       "</table>\n",
       "</div>"
      ],
      "text/plain": [
       "   html_num_tags('embed')  html_num_tags('object')  url_len   \n",
       "0                     0.0                      0.0    126.0  \\\n",
       "1                     0.0                      0.0     17.0   \n",
       "\n",
       "   html_num_tags('script')  html_num_tags('div')  html_num_tags('iframe')   \n",
       "0                     14.0                  46.0                      0.0  \\\n",
       "1                     14.0                  74.0                      2.0   \n",
       "\n",
       "   html_num_tags('a')  url_num_query_para  html_num_tags('head')   \n",
       "0                 0.0                 2.0                    1.0  \\\n",
       "1               132.0                 0.0                    1.0   \n",
       "\n",
       "   url_num_underscores  html_num_tags('body')  html_num_tags('form')   \n",
       "0                  5.0                    1.0                    1.0  \\\n",
       "1                  0.0                    1.0                    1.0   \n",
       "\n",
       "   url_num_dots  url_num_hyphens_dom  \n",
       "0           2.0                  0.0  \n",
       "1           2.0                  0.0  "
      ]
     },
     "metadata": {},
     "output_type": "display_data"
    },
    {
     "data": {
      "text/html": [
       "<div>\n",
       "<style scoped>\n",
       "    .dataframe tbody tr th:only-of-type {\n",
       "        vertical-align: middle;\n",
       "    }\n",
       "\n",
       "    .dataframe tbody tr th {\n",
       "        vertical-align: top;\n",
       "    }\n",
       "\n",
       "    .dataframe thead th {\n",
       "        text-align: right;\n",
       "    }\n",
       "</style>\n",
       "<table border=\"1\" class=\"dataframe\">\n",
       "  <thead>\n",
       "    <tr style=\"text-align: right;\">\n",
       "      <th></th>\n",
       "      <th>url_ip_present</th>\n",
       "      <th>url_chinese_present</th>\n",
       "      <th>url_port</th>\n",
       "      <th>is_url_length_over</th>\n",
       "    </tr>\n",
       "  </thead>\n",
       "  <tbody>\n",
       "    <tr>\n",
       "      <th>0</th>\n",
       "      <td>0</td>\n",
       "      <td>0</td>\n",
       "      <td>0</td>\n",
       "      <td>1</td>\n",
       "    </tr>\n",
       "    <tr>\n",
       "      <th>1</th>\n",
       "      <td>0</td>\n",
       "      <td>0</td>\n",
       "      <td>0</td>\n",
       "      <td>0</td>\n",
       "    </tr>\n",
       "  </tbody>\n",
       "</table>\n",
       "</div>"
      ],
      "text/plain": [
       "   url_ip_present  url_chinese_present  url_port  is_url_length_over\n",
       "0               0                    0         0                   1\n",
       "1               0                    0         0                   0"
      ]
     },
     "metadata": {},
     "output_type": "display_data"
    }
   ],
   "source": [
    "display(x_train[zscore_cols].head(2))\n",
    "display(x_train[log_cols].head(2))\n",
    "display(x_train[cat_cols].head(2))"
   ]
  },
  {
   "cell_type": "code",
   "execution_count": null,
   "metadata": {},
   "outputs": [
    {
     "data": {
      "text/html": [
       "<div>\n",
       "<style scoped>\n",
       "    .dataframe tbody tr th:only-of-type {\n",
       "        vertical-align: middle;\n",
       "    }\n",
       "\n",
       "    .dataframe tbody tr th {\n",
       "        vertical-align: top;\n",
       "    }\n",
       "\n",
       "    .dataframe thead th {\n",
       "        text-align: right;\n",
       "    }\n",
       "</style>\n",
       "<table border=\"1\" class=\"dataframe\">\n",
       "  <thead>\n",
       "    <tr style=\"text-align: right;\">\n",
       "      <th></th>\n",
       "      <th>url_hostname_len</th>\n",
       "      <th>url_entropy</th>\n",
       "      <th>html_num_tags('embed')</th>\n",
       "      <th>html_num_tags('object')</th>\n",
       "      <th>url_len</th>\n",
       "      <th>html_num_tags('script')</th>\n",
       "      <th>html_num_tags('div')</th>\n",
       "      <th>html_num_tags('iframe')</th>\n",
       "      <th>html_num_tags('a')</th>\n",
       "      <th>url_num_query_para</th>\n",
       "      <th>html_num_tags('head')</th>\n",
       "      <th>url_num_underscores</th>\n",
       "      <th>html_num_tags('body')</th>\n",
       "      <th>html_num_tags('form')</th>\n",
       "      <th>url_num_dots</th>\n",
       "      <th>url_num_hyphens_dom</th>\n",
       "      <th>url_ip_present</th>\n",
       "      <th>url_chinese_present</th>\n",
       "      <th>url_port</th>\n",
       "      <th>is_url_length_over</th>\n",
       "    </tr>\n",
       "  </thead>\n",
       "  <tbody>\n",
       "    <tr>\n",
       "      <th>0</th>\n",
       "      <td>-0.331079</td>\n",
       "      <td>1.930663</td>\n",
       "      <td>0.0</td>\n",
       "      <td>0.0</td>\n",
       "      <td>4.844187</td>\n",
       "      <td>2.70805</td>\n",
       "      <td>3.850148</td>\n",
       "      <td>0.000000</td>\n",
       "      <td>0.000000</td>\n",
       "      <td>1.098612</td>\n",
       "      <td>0.693147</td>\n",
       "      <td>1.791759</td>\n",
       "      <td>0.693147</td>\n",
       "      <td>0.693147</td>\n",
       "      <td>1.098612</td>\n",
       "      <td>0.0</td>\n",
       "      <td>0</td>\n",
       "      <td>0</td>\n",
       "      <td>0</td>\n",
       "      <td>1</td>\n",
       "    </tr>\n",
       "    <tr>\n",
       "      <th>1</th>\n",
       "      <td>-0.331079</td>\n",
       "      <td>-0.468622</td>\n",
       "      <td>0.0</td>\n",
       "      <td>0.0</td>\n",
       "      <td>2.890372</td>\n",
       "      <td>2.70805</td>\n",
       "      <td>4.317488</td>\n",
       "      <td>1.098612</td>\n",
       "      <td>4.890349</td>\n",
       "      <td>0.000000</td>\n",
       "      <td>0.693147</td>\n",
       "      <td>0.000000</td>\n",
       "      <td>0.693147</td>\n",
       "      <td>0.693147</td>\n",
       "      <td>1.098612</td>\n",
       "      <td>0.0</td>\n",
       "      <td>0</td>\n",
       "      <td>0</td>\n",
       "      <td>0</td>\n",
       "      <td>0</td>\n",
       "    </tr>\n",
       "  </tbody>\n",
       "</table>\n",
       "</div>"
      ],
      "text/plain": [
       "   url_hostname_len  url_entropy  html_num_tags('embed')   \n",
       "0         -0.331079     1.930663                     0.0  \\\n",
       "1         -0.331079    -0.468622                     0.0   \n",
       "\n",
       "   html_num_tags('object')   url_len  html_num_tags('script')   \n",
       "0                      0.0  4.844187                  2.70805  \\\n",
       "1                      0.0  2.890372                  2.70805   \n",
       "\n",
       "   html_num_tags('div')  html_num_tags('iframe')  html_num_tags('a')   \n",
       "0              3.850148                 0.000000            0.000000  \\\n",
       "1              4.317488                 1.098612            4.890349   \n",
       "\n",
       "   url_num_query_para  html_num_tags('head')  url_num_underscores   \n",
       "0            1.098612               0.693147             1.791759  \\\n",
       "1            0.000000               0.693147             0.000000   \n",
       "\n",
       "   html_num_tags('body')  html_num_tags('form')  url_num_dots   \n",
       "0               0.693147               0.693147      1.098612  \\\n",
       "1               0.693147               0.693147      1.098612   \n",
       "\n",
       "   url_num_hyphens_dom  url_ip_present  url_chinese_present  url_port   \n",
       "0                  0.0               0                    0         0  \\\n",
       "1                  0.0               0                    0         0   \n",
       "\n",
       "   is_url_length_over  \n",
       "0                   1  \n",
       "1                   0  "
      ]
     },
     "metadata": {},
     "output_type": "display_data"
    },
    {
     "data": {
      "text/html": [
       "<div>\n",
       "<style scoped>\n",
       "    .dataframe tbody tr th:only-of-type {\n",
       "        vertical-align: middle;\n",
       "    }\n",
       "\n",
       "    .dataframe tbody tr th {\n",
       "        vertical-align: top;\n",
       "    }\n",
       "\n",
       "    .dataframe thead th {\n",
       "        text-align: right;\n",
       "    }\n",
       "</style>\n",
       "<table border=\"1\" class=\"dataframe\">\n",
       "  <thead>\n",
       "    <tr style=\"text-align: right;\">\n",
       "      <th></th>\n",
       "      <th>url_hostname_len</th>\n",
       "      <th>url_entropy</th>\n",
       "      <th>html_num_tags('embed')</th>\n",
       "      <th>html_num_tags('object')</th>\n",
       "      <th>url_len</th>\n",
       "      <th>html_num_tags('script')</th>\n",
       "      <th>html_num_tags('div')</th>\n",
       "      <th>html_num_tags('iframe')</th>\n",
       "      <th>html_num_tags('a')</th>\n",
       "      <th>url_num_query_para</th>\n",
       "      <th>html_num_tags('head')</th>\n",
       "      <th>url_num_underscores</th>\n",
       "      <th>html_num_tags('body')</th>\n",
       "      <th>html_num_tags('form')</th>\n",
       "      <th>url_num_dots</th>\n",
       "      <th>url_num_hyphens_dom</th>\n",
       "      <th>url_ip_present</th>\n",
       "      <th>url_chinese_present</th>\n",
       "      <th>url_port</th>\n",
       "      <th>is_url_length_over</th>\n",
       "    </tr>\n",
       "  </thead>\n",
       "  <tbody>\n",
       "    <tr>\n",
       "      <th>0</th>\n",
       "      <td>0.369548</td>\n",
       "      <td>-0.173737</td>\n",
       "      <td>0.0</td>\n",
       "      <td>0.0</td>\n",
       "      <td>3.465736</td>\n",
       "      <td>1.098612</td>\n",
       "      <td>3.737670</td>\n",
       "      <td>0.0</td>\n",
       "      <td>2.833213</td>\n",
       "      <td>0.0</td>\n",
       "      <td>0.693147</td>\n",
       "      <td>0.0</td>\n",
       "      <td>0.693147</td>\n",
       "      <td>0.693147</td>\n",
       "      <td>0.693147</td>\n",
       "      <td>0.0</td>\n",
       "      <td>0</td>\n",
       "      <td>0</td>\n",
       "      <td>0</td>\n",
       "      <td>0</td>\n",
       "    </tr>\n",
       "    <tr>\n",
       "      <th>1</th>\n",
       "      <td>-0.831527</td>\n",
       "      <td>0.223403</td>\n",
       "      <td>0.0</td>\n",
       "      <td>0.0</td>\n",
       "      <td>3.784190</td>\n",
       "      <td>1.609438</td>\n",
       "      <td>3.583519</td>\n",
       "      <td>0.0</td>\n",
       "      <td>2.079442</td>\n",
       "      <td>0.0</td>\n",
       "      <td>0.693147</td>\n",
       "      <td>0.0</td>\n",
       "      <td>0.693147</td>\n",
       "      <td>0.693147</td>\n",
       "      <td>1.386294</td>\n",
       "      <td>0.0</td>\n",
       "      <td>0</td>\n",
       "      <td>0</td>\n",
       "      <td>0</td>\n",
       "      <td>0</td>\n",
       "    </tr>\n",
       "  </tbody>\n",
       "</table>\n",
       "</div>"
      ],
      "text/plain": [
       "   url_hostname_len  url_entropy  html_num_tags('embed')   \n",
       "0          0.369548    -0.173737                     0.0  \\\n",
       "1         -0.831527     0.223403                     0.0   \n",
       "\n",
       "   html_num_tags('object')   url_len  html_num_tags('script')   \n",
       "0                      0.0  3.465736                 1.098612  \\\n",
       "1                      0.0  3.784190                 1.609438   \n",
       "\n",
       "   html_num_tags('div')  html_num_tags('iframe')  html_num_tags('a')   \n",
       "0              3.737670                      0.0            2.833213  \\\n",
       "1              3.583519                      0.0            2.079442   \n",
       "\n",
       "   url_num_query_para  html_num_tags('head')  url_num_underscores   \n",
       "0                 0.0               0.693147                  0.0  \\\n",
       "1                 0.0               0.693147                  0.0   \n",
       "\n",
       "   html_num_tags('body')  html_num_tags('form')  url_num_dots   \n",
       "0               0.693147               0.693147      0.693147  \\\n",
       "1               0.693147               0.693147      1.386294   \n",
       "\n",
       "   url_num_hyphens_dom  url_ip_present  url_chinese_present  url_port   \n",
       "0                  0.0               0                    0         0  \\\n",
       "1                  0.0               0                    0         0   \n",
       "\n",
       "   is_url_length_over  \n",
       "0                   0  \n",
       "1                   0  "
      ]
     },
     "metadata": {},
     "output_type": "display_data"
    }
   ],
   "source": [
    "scaler = StandardScaler()\n",
    "x_train_z = pd.DataFrame(scaler.fit_transform(x_train[zscore_cols]), columns=zscore_cols)\n",
    "x_test_z = pd.DataFrame(scaler.transform(x_test[zscore_cols]), columns=zscore_cols)\n",
    "\n",
    "x_train_l = np.log1p(x_train[log_cols])\n",
    "x_test_l = np.log1p(x_test[log_cols])\n",
    "\n",
    "x_train_s = pd.concat([x_train_z, x_train_l, x_train[cat_cols]], axis=1)\n",
    "x_test_s = pd.concat([x_test_z, x_test_l, x_test[cat_cols]], axis=1)\n",
    "\n",
    "display(x_train_s.head(2))\n",
    "display(x_test_s.head(2))"
   ]
  },
  {
   "cell_type": "code",
   "execution_count": 80,
   "metadata": {},
   "outputs": [
    {
     "name": "stdout",
     "output_type": "stream",
     "text": [
      "Fitting 5 folds for each of 9 candidates, totalling 45 fits\n"
     ]
    },
    {
     "name": "stderr",
     "output_type": "stream",
     "text": [
      "c:\\Users\\gabri\\.conda\\envs\\ml_pipeline\\lib\\site-packages\\sklearn\\linear_model\\_logistic.py:458: ConvergenceWarning: lbfgs failed to converge (status=1):\n",
      "STOP: TOTAL NO. of ITERATIONS REACHED LIMIT.\n",
      "\n",
      "Increase the number of iterations (max_iter) or scale the data as shown in:\n",
      "    https://scikit-learn.org/stable/modules/preprocessing.html\n",
      "Please also refer to the documentation for alternative solver options:\n",
      "    https://scikit-learn.org/stable/modules/linear_model.html#logistic-regression\n",
      "  n_iter_i = _check_optimize_result(\n",
      "c:\\Users\\gabri\\.conda\\envs\\ml_pipeline\\lib\\site-packages\\sklearn\\linear_model\\_logistic.py:458: ConvergenceWarning: lbfgs failed to converge (status=1):\n",
      "STOP: TOTAL NO. of ITERATIONS REACHED LIMIT.\n",
      "\n",
      "Increase the number of iterations (max_iter) or scale the data as shown in:\n",
      "    https://scikit-learn.org/stable/modules/preprocessing.html\n",
      "Please also refer to the documentation for alternative solver options:\n",
      "    https://scikit-learn.org/stable/modules/linear_model.html#logistic-regression\n",
      "  n_iter_i = _check_optimize_result(\n",
      "c:\\Users\\gabri\\.conda\\envs\\ml_pipeline\\lib\\site-packages\\sklearn\\linear_model\\_logistic.py:458: ConvergenceWarning: lbfgs failed to converge (status=1):\n",
      "STOP: TOTAL NO. of ITERATIONS REACHED LIMIT.\n",
      "\n",
      "Increase the number of iterations (max_iter) or scale the data as shown in:\n",
      "    https://scikit-learn.org/stable/modules/preprocessing.html\n",
      "Please also refer to the documentation for alternative solver options:\n",
      "    https://scikit-learn.org/stable/modules/linear_model.html#logistic-regression\n",
      "  n_iter_i = _check_optimize_result(\n",
      "c:\\Users\\gabri\\.conda\\envs\\ml_pipeline\\lib\\site-packages\\sklearn\\linear_model\\_logistic.py:458: ConvergenceWarning: lbfgs failed to converge (status=1):\n",
      "STOP: TOTAL NO. of ITERATIONS REACHED LIMIT.\n",
      "\n",
      "Increase the number of iterations (max_iter) or scale the data as shown in:\n",
      "    https://scikit-learn.org/stable/modules/preprocessing.html\n",
      "Please also refer to the documentation for alternative solver options:\n",
      "    https://scikit-learn.org/stable/modules/linear_model.html#logistic-regression\n",
      "  n_iter_i = _check_optimize_result(\n",
      "c:\\Users\\gabri\\.conda\\envs\\ml_pipeline\\lib\\site-packages\\sklearn\\linear_model\\_logistic.py:458: ConvergenceWarning: lbfgs failed to converge (status=1):\n",
      "STOP: TOTAL NO. of ITERATIONS REACHED LIMIT.\n",
      "\n",
      "Increase the number of iterations (max_iter) or scale the data as shown in:\n",
      "    https://scikit-learn.org/stable/modules/preprocessing.html\n",
      "Please also refer to the documentation for alternative solver options:\n",
      "    https://scikit-learn.org/stable/modules/linear_model.html#logistic-regression\n",
      "  n_iter_i = _check_optimize_result(\n"
     ]
    },
    {
     "data": {
      "text/plain": [
       "(86.29, 86.08)"
      ]
     },
     "execution_count": 80,
     "metadata": {},
     "output_type": "execute_result"
    }
   ],
   "source": [
    "model_lr.fit(x_train_s, y_train)\n",
    "y_pred_s_lr = model_lr.predict(x_test_s)\n",
    "lr_s_f1, lr_s_acc = f1_acc(y_test, y_pred_s_lr)\n",
    "lr_s_f1, lr_s_acc"
   ]
  },
  {
   "cell_type": "code",
   "execution_count": 81,
   "metadata": {},
   "outputs": [
    {
     "name": "stdout",
     "output_type": "stream",
     "text": [
      "Fitting 5 folds for each of 15 candidates, totalling 75 fits\n"
     ]
    },
    {
     "data": {
      "text/plain": [
       "(93.63, 93.61)"
      ]
     },
     "execution_count": 81,
     "metadata": {},
     "output_type": "execute_result"
    }
   ],
   "source": [
    "model_rf.fit(x_train_s, y_train)\n",
    "y_pred_s_rf = model_rf.predict(x_test_s)\n",
    "rf_s_f1, rf_s_acc = f1_acc(y_test, y_pred_s_rf)\n",
    "rf_s_f1, rf_s_acc"
   ]
  },
  {
   "cell_type": "code",
   "execution_count": 71,
   "metadata": {},
   "outputs": [
    {
     "data": {
      "text/plain": [
       "((2261, 20), (2261, 16))"
      ]
     },
     "execution_count": 71,
     "metadata": {},
     "output_type": "execute_result"
    }
   ],
   "source": [
    "x_train.shape, x_train_s.shape"
   ]
  },
  {
   "cell_type": "code",
   "execution_count": 82,
   "metadata": {},
   "outputs": [
    {
     "name": "stdout",
     "output_type": "stream",
     "text": [
      "Epoch 1/50\n",
      "61/61 [==============================] - 0s 2ms/step - loss: 0.7196 - accuracy: 0.6845 - val_loss: 0.3944 - val_accuracy: 0.8324\n",
      "Epoch 2/50\n",
      "61/61 [==============================] - 0s 1ms/step - loss: 0.3767 - accuracy: 0.8334 - val_loss: 0.3783 - val_accuracy: 0.8176\n",
      "Epoch 3/50\n",
      "61/61 [==============================] - 0s 1ms/step - loss: 0.3700 - accuracy: 0.8365 - val_loss: 0.2748 - val_accuracy: 0.8882\n",
      "Epoch 4/50\n",
      "61/61 [==============================] - 0s 1ms/step - loss: 0.2967 - accuracy: 0.8829 - val_loss: 0.2659 - val_accuracy: 0.8882\n",
      "Epoch 5/50\n",
      "61/61 [==============================] - 0s 1ms/step - loss: 0.2776 - accuracy: 0.8855 - val_loss: 0.2564 - val_accuracy: 0.8941\n",
      "Epoch 6/50\n",
      "61/61 [==============================] - 0s 1ms/step - loss: 0.2851 - accuracy: 0.8792 - val_loss: 0.2793 - val_accuracy: 0.8794\n",
      "Epoch 7/50\n",
      "61/61 [==============================] - 0s 1ms/step - loss: 0.2823 - accuracy: 0.8787 - val_loss: 0.2543 - val_accuracy: 0.8735\n",
      "Epoch 8/50\n",
      "61/61 [==============================] - 0s 1ms/step - loss: 0.2629 - accuracy: 0.8870 - val_loss: 0.2285 - val_accuracy: 0.9000\n",
      "Epoch 9/50\n",
      "61/61 [==============================] - 0s 1ms/step - loss: 0.2722 - accuracy: 0.8886 - val_loss: 0.2134 - val_accuracy: 0.9029\n",
      "Epoch 10/50\n",
      "61/61 [==============================] - 0s 1ms/step - loss: 0.2475 - accuracy: 0.8938 - val_loss: 0.2304 - val_accuracy: 0.9176\n",
      "Epoch 11/50\n",
      "61/61 [==============================] - 0s 1ms/step - loss: 0.2455 - accuracy: 0.9001 - val_loss: 0.2110 - val_accuracy: 0.9029\n",
      "Epoch 12/50\n",
      "61/61 [==============================] - 0s 1ms/step - loss: 0.2475 - accuracy: 0.8943 - val_loss: 0.2062 - val_accuracy: 0.9000\n",
      "Epoch 13/50\n",
      "61/61 [==============================] - 0s 1ms/step - loss: 0.2770 - accuracy: 0.8813 - val_loss: 0.2422 - val_accuracy: 0.9029\n",
      "Epoch 14/50\n",
      "61/61 [==============================] - 0s 1ms/step - loss: 0.2408 - accuracy: 0.8959 - val_loss: 0.2109 - val_accuracy: 0.9118\n",
      "Epoch 15/50\n",
      "61/61 [==============================] - 0s 1ms/step - loss: 0.2375 - accuracy: 0.9021 - val_loss: 0.2041 - val_accuracy: 0.9118\n",
      "Epoch 16/50\n",
      "61/61 [==============================] - 0s 1ms/step - loss: 0.2249 - accuracy: 0.9094 - val_loss: 0.1998 - val_accuracy: 0.9059\n",
      "Epoch 17/50\n",
      "61/61 [==============================] - 0s 1ms/step - loss: 0.2232 - accuracy: 0.9042 - val_loss: 0.1908 - val_accuracy: 0.9206\n",
      "Epoch 18/50\n",
      "61/61 [==============================] - 0s 1ms/step - loss: 0.2175 - accuracy: 0.9073 - val_loss: 0.2100 - val_accuracy: 0.9088\n",
      "Epoch 19/50\n",
      "61/61 [==============================] - 0s 1ms/step - loss: 0.2261 - accuracy: 0.9032 - val_loss: 0.1896 - val_accuracy: 0.9176\n",
      "Epoch 20/50\n",
      "61/61 [==============================] - 0s 1ms/step - loss: 0.2271 - accuracy: 0.9027 - val_loss: 0.2111 - val_accuracy: 0.9206\n",
      "Epoch 21/50\n",
      "61/61 [==============================] - 0s 1ms/step - loss: 0.2451 - accuracy: 0.8990 - val_loss: 0.2006 - val_accuracy: 0.9088\n",
      "Epoch 22/50\n",
      "61/61 [==============================] - 0s 1ms/step - loss: 0.2176 - accuracy: 0.9094 - val_loss: 0.1863 - val_accuracy: 0.9206\n",
      "Epoch 23/50\n",
      "61/61 [==============================] - 0s 1ms/step - loss: 0.2127 - accuracy: 0.9105 - val_loss: 0.1810 - val_accuracy: 0.9265\n",
      "Epoch 24/50\n",
      "61/61 [==============================] - 0s 1ms/step - loss: 0.2164 - accuracy: 0.9136 - val_loss: 0.1885 - val_accuracy: 0.9176\n",
      "Epoch 25/50\n",
      "61/61 [==============================] - 0s 1ms/step - loss: 0.2042 - accuracy: 0.9178 - val_loss: 0.2040 - val_accuracy: 0.9029\n",
      "Epoch 26/50\n",
      "61/61 [==============================] - 0s 1ms/step - loss: 0.2179 - accuracy: 0.9063 - val_loss: 0.1763 - val_accuracy: 0.9235\n",
      "Epoch 27/50\n",
      "61/61 [==============================] - 0s 1ms/step - loss: 0.2075 - accuracy: 0.9151 - val_loss: 0.1753 - val_accuracy: 0.9324\n",
      "Epoch 28/50\n",
      "61/61 [==============================] - 0s 1ms/step - loss: 0.1934 - accuracy: 0.9172 - val_loss: 0.1721 - val_accuracy: 0.9353\n",
      "Epoch 29/50\n",
      "61/61 [==============================] - 0s 1ms/step - loss: 0.1977 - accuracy: 0.9183 - val_loss: 0.1730 - val_accuracy: 0.9206\n",
      "Epoch 30/50\n",
      "61/61 [==============================] - 0s 1ms/step - loss: 0.1992 - accuracy: 0.9157 - val_loss: 0.1704 - val_accuracy: 0.9324\n",
      "Epoch 31/50\n",
      "61/61 [==============================] - 0s 991us/step - loss: 0.1943 - accuracy: 0.9146 - val_loss: 0.1670 - val_accuracy: 0.9382\n",
      "Epoch 32/50\n",
      "61/61 [==============================] - 0s 1ms/step - loss: 0.1892 - accuracy: 0.9204 - val_loss: 0.1766 - val_accuracy: 0.9206\n",
      "Epoch 33/50\n",
      "61/61 [==============================] - 0s 1ms/step - loss: 0.1880 - accuracy: 0.9214 - val_loss: 0.1643 - val_accuracy: 0.9324\n",
      "Epoch 34/50\n",
      "61/61 [==============================] - 0s 1ms/step - loss: 0.1832 - accuracy: 0.9297 - val_loss: 0.1866 - val_accuracy: 0.9059\n",
      "Epoch 35/50\n",
      "61/61 [==============================] - 0s 1ms/step - loss: 0.1952 - accuracy: 0.9219 - val_loss: 0.1844 - val_accuracy: 0.9206\n",
      "Epoch 36/50\n",
      "61/61 [==============================] - 0s 1ms/step - loss: 0.1757 - accuracy: 0.9292 - val_loss: 0.1608 - val_accuracy: 0.9324\n",
      "Epoch 37/50\n",
      "61/61 [==============================] - 0s 1ms/step - loss: 0.1805 - accuracy: 0.9256 - val_loss: 0.1639 - val_accuracy: 0.9353\n",
      "Epoch 38/50\n",
      "61/61 [==============================] - 0s 1ms/step - loss: 0.1884 - accuracy: 0.9230 - val_loss: 0.1594 - val_accuracy: 0.9382\n",
      "Epoch 39/50\n",
      "61/61 [==============================] - 0s 1ms/step - loss: 0.1705 - accuracy: 0.9240 - val_loss: 0.1667 - val_accuracy: 0.9412\n",
      "Epoch 40/50\n",
      "61/61 [==============================] - 0s 1ms/step - loss: 0.1708 - accuracy: 0.9339 - val_loss: 0.1716 - val_accuracy: 0.9324\n",
      "Epoch 41/50\n",
      "61/61 [==============================] - 0s 987us/step - loss: 0.1675 - accuracy: 0.9355 - val_loss: 0.1819 - val_accuracy: 0.9265\n",
      "Epoch 42/50\n",
      "61/61 [==============================] - 0s 1ms/step - loss: 0.2026 - accuracy: 0.9105 - val_loss: 0.2014 - val_accuracy: 0.9235\n",
      "Epoch 43/50\n",
      "57/61 [===========================>..] - ETA: 0s - loss: 0.1639 - accuracy: 0.9348Restoring model weights from the end of the best epoch: 38.\n",
      "61/61 [==============================] - 0s 1ms/step - loss: 0.1634 - accuracy: 0.9339 - val_loss: 0.1632 - val_accuracy: 0.9294\n",
      "Epoch 43: early stopping\n",
      "31/31 [==============================] - 0s 883us/step\n"
     ]
    },
    {
     "data": {
      "text/plain": [
       "(92.34, 92.27)"
      ]
     },
     "execution_count": 82,
     "metadata": {},
     "output_type": "execute_result"
    }
   ],
   "source": [
    "model_tf.fit(x_train_s, y_train,\n",
    "             validation_split=0.15,\n",
    "             callbacks=[es],\n",
    "             epochs=50,\n",
    "             verbose=1,\n",
    "             shuffle=True)\n",
    "\n",
    "y_pred_s_tf = model_tf.predict(x_test_s)\n",
    "y_pred_s_tf2 = np.round(y_pred_s_tf, 0).reshape(-1)\n",
    "tf_s_f1, tf_s_acc = f1_acc(y_test, y_pred_s_tf2)\n",
    "tf_s_f1, tf_s_acc"
   ]
  },
  {
   "cell_type": "markdown",
   "metadata": {},
   "source": [
    "## 8> 성능 비교\n",
    "* 스케일링 전/후 3개의 모델 모두 성능이 향상되었다."
   ]
  },
  {
   "cell_type": "code",
   "execution_count": 87,
   "metadata": {},
   "outputs": [
    {
     "data": {
      "text/html": [
       "<div>\n",
       "<style scoped>\n",
       "    .dataframe tbody tr th:only-of-type {\n",
       "        vertical-align: middle;\n",
       "    }\n",
       "\n",
       "    .dataframe tbody tr th {\n",
       "        vertical-align: top;\n",
       "    }\n",
       "\n",
       "    .dataframe thead th {\n",
       "        text-align: right;\n",
       "    }\n",
       "</style>\n",
       "<table border=\"1\" class=\"dataframe\">\n",
       "  <thead>\n",
       "    <tr style=\"text-align: right;\">\n",
       "      <th></th>\n",
       "      <th>f1</th>\n",
       "      <th>acc</th>\n",
       "    </tr>\n",
       "  </thead>\n",
       "  <tbody>\n",
       "    <tr>\n",
       "      <th>LogisticRegression</th>\n",
       "      <td>85.60</td>\n",
       "      <td>85.67</td>\n",
       "    </tr>\n",
       "    <tr>\n",
       "      <th>LogisticRegression_Scaled</th>\n",
       "      <td>86.29</td>\n",
       "      <td>86.08</td>\n",
       "    </tr>\n",
       "    <tr>\n",
       "      <th>RandomForest</th>\n",
       "      <td>93.54</td>\n",
       "      <td>93.51</td>\n",
       "    </tr>\n",
       "    <tr>\n",
       "      <th>RandomForest_Scaled</th>\n",
       "      <td>93.63</td>\n",
       "      <td>93.61</td>\n",
       "    </tr>\n",
       "    <tr>\n",
       "      <th>Tensorflow_ANN</th>\n",
       "      <td>91.69</td>\n",
       "      <td>91.86</td>\n",
       "    </tr>\n",
       "    <tr>\n",
       "      <th>Tensorflow_ANN_Scaled</th>\n",
       "      <td>92.34</td>\n",
       "      <td>92.27</td>\n",
       "    </tr>\n",
       "  </tbody>\n",
       "</table>\n",
       "</div>"
      ],
      "text/plain": [
       "                              f1    acc\n",
       "LogisticRegression         85.60  85.67\n",
       "LogisticRegression_Scaled  86.29  86.08\n",
       "RandomForest               93.54  93.51\n",
       "RandomForest_Scaled        93.63  93.61\n",
       "Tensorflow_ANN             91.69  91.86\n",
       "Tensorflow_ANN_Scaled      92.34  92.27"
      ]
     },
     "execution_count": 87,
     "metadata": {},
     "output_type": "execute_result"
    }
   ],
   "source": [
    "lr1 = pd.DataFrame({'f1': [lr_f1], 'acc': [lr_acc]}, index=['LogisticRegression'])\n",
    "lr2 = pd.DataFrame({'f1': [lr_s_f1], 'acc': [lr_s_acc]}, index=['LogisticRegression_Scaled'])\n",
    "\n",
    "rf1 = pd.DataFrame({'f1': [rf_f1], 'acc': [rf_acc]}, index=['RandomForest'])\n",
    "rf2 = pd.DataFrame({'f1': [rf_s_f1], 'acc': [rf_s_acc]}, index=['RandomForest_Scaled'])\n",
    "\n",
    "tf1 = pd.DataFrame({'f1': [tf_f1], 'acc': [tf_acc]}, index=['Tensorflow_ANN'])\n",
    "tf2 = pd.DataFrame({'f1': [tf_s_f1], 'acc': [tf_s_acc]}, index=['Tensorflow_ANN_Scaled'])\n",
    "\n",
    "performance = pd.concat([lr1, lr2, rf1, rf2, tf1, tf2], axis=0)\n",
    "performance"
   ]
  },
  {
   "cell_type": "code",
   "execution_count": null,
   "metadata": {},
   "outputs": [],
   "source": []
  }
 ],
 "metadata": {
  "kernelspec": {
   "display_name": "ml_pipeline",
   "language": "python",
   "name": "python3"
  },
  "language_info": {
   "codemirror_mode": {
    "name": "ipython",
    "version": 3
   },
   "file_extension": ".py",
   "mimetype": "text/x-python",
   "name": "python",
   "nbconvert_exporter": "python",
   "pygments_lexer": "ipython3",
   "version": "3.10.13"
  }
 },
 "nbformat": 4,
 "nbformat_minor": 4
}
